{
  "nbformat": 4,
  "nbformat_minor": 0,
  "metadata": {
    "colab": {
      "name": "CSV 읽고 Excel로 저장.ipynb",
      "provenance": [],
      "collapsed_sections": [],
      "toc_visible": true,
      "authorship_tag": "ABX9TyPz+GlXR+r+9ko9J6MFNSTa",
      "include_colab_link": true
    },
    "kernelspec": {
      "name": "python3",
      "display_name": "Python 3"
    },
    "language_info": {
      "name": "python"
    }
  },
  "cells": [
    {
      "cell_type": "markdown",
      "metadata": {
        "id": "view-in-github",
        "colab_type": "text"
      },
      "source": [
        "<a href=\"https://colab.research.google.com/github/kjohn48/SP1500stockPicker/blob/master/CSV_%EC%9D%BD%EA%B3%A0_Excel%EB%A1%9C_%EC%A0%80%EC%9E%A5.ipynb\" target=\"_parent\"><img src=\"https://colab.research.google.com/assets/colab-badge.svg\" alt=\"Open In Colab\"/></a>"
      ]
    },
    {
      "cell_type": "markdown",
      "metadata": {
        "id": "IG6amDLDK4eU"
      },
      "source": [
        ""
      ]
    },
    {
      "cell_type": "code",
      "metadata": {
        "id": "KDJ2qYahJGjr"
      },
      "source": [
        "# CSV 읽고 Excel로 저장\n",
        "\"\"\"\n",
        "Created on Sat Oct  3 11:30:54 2020\n",
        "\n",
        "@author: Carpediem48\n",
        "\"\"\"\n",
        "\n",
        "import pandas as pd\n",
        "\n",
        "df = pd.read_csv(\"(저소음) (냉각팬) (소형) 20180101.csv\")\n",
        "df.to_excel(\"(저소음) (냉각팬) (소형) 20180101.xlsx\", encoding = 'UTF-8')"
      ],
      "execution_count": null,
      "outputs": []
    }
  ]
}